{
 "cells": [
  {
   "cell_type": "markdown",
   "metadata": {},
   "source": [
    "### COGS 18 FINAL PROJECT: CHATBOT\n",
    "\n",
    "My final project consists of utilizing aspects of the code from Assigment 3.\n",
    "    \n",
    "The purpose that my chatbot serves is to provide the user with a random compliment, insult,\n",
    "or love remark based on their input. This bot takes into consideration other keyterms such as\n",
    "questions and exclamations unrelated to the purpose of the bot and provides an alternative \n",
    "answer as well. It does so by turning the user input into a list of words and then using \n",
    "different functions to catch where the user asks for either a compliment, insult, or love\n",
    "remark. "
   ]
  },
  {
   "cell_type": "code",
   "execution_count": 1,
   "metadata": {
    "scrolled": true
   },
   "outputs": [],
   "source": [
    "from my_module.functions import izzy_bot"
   ]
  },
  {
   "cell_type": "code",
   "execution_count": null,
   "metadata": {},
   "outputs": [
    {
     "name": "stdout",
     "output_type": "stream",
     "text": [
      "Hello human! My name is Izzy and I am here to give you compliments, love remarks, or insults.\n",
      "Please let me know whether you want a compliment, love remark, or insult.\n",
      "If you get tired of me, just say 'quit', and I'll leave you alone.\n",
      "INPUT :\thello\n",
      "OUTPUT: I am the wrong bot for that\n",
      "INPUT :\tcomplimen\n",
      "OUTPUT: idk\n",
      "INPUT :\tcompliment\n",
      "OUTPUT: You are kind\n",
      "INPUT :\tinsult\n",
      "OUTPUT: You are not very bright\n"
     ]
    }
   ],
   "source": [
    "izzy_bot()"
   ]
  },
  {
   "cell_type": "code",
   "execution_count": null,
   "metadata": {},
   "outputs": [],
   "source": []
  }
 ],
 "metadata": {
  "kernelspec": {
   "display_name": "Python 3",
   "language": "python",
   "name": "python3"
  },
  "language_info": {
   "codemirror_mode": {
    "name": "ipython",
    "version": 3
   },
   "file_extension": ".py",
   "mimetype": "text/x-python",
   "name": "python",
   "nbconvert_exporter": "python",
   "pygments_lexer": "ipython3",
   "version": "3.7.6"
  }
 },
 "nbformat": 4,
 "nbformat_minor": 2
}
